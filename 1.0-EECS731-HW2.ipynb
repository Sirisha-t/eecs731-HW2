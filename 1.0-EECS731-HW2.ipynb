{
 "cells": [
  {
   "cell_type": "code",
   "execution_count": 1,
   "metadata": {
    "collapsed": false
   },
   "outputs": [],
   "source": [
    "import pandas as pd\n",
    "import numpy as np\n",
    "import seaborn as sns\n",
    "sns.set(style = \"whitegrid\")\n",
    "import matplotlib.pyplot as plt\n",
    "from sklearn.model_selection import train_test_split\n",
    "\n",
    "from sklearn.preprocessing import LabelEncoder\n",
    "from sklearn import preprocessing\n",
    "\n",
    "\n",
    "from sklearn import svm\n",
    "from sklearn import linear_model\n",
    "from sklearn.ensemble import RandomForestClassifier\n",
    "\n",
    "\n",
    "from sklearn.tree import DecisionTreeClassifier\n",
    "from sklearn.metrics import accuracy_score\n",
    "from sklearn import tree\n",
    "\n",
    "from nltk.stem.porter import PorterStemmer\n",
    "\n",
    "import nltk\n",
    "import string\n",
    "import re\n",
    "\n",
    "%matplotlib inline"
   ]
  },
  {
   "cell_type": "code",
   "execution_count": 2,
   "metadata": {
    "collapsed": true
   },
   "outputs": [],
   "source": [
    "# Read input Shakesphere dataset\n",
    "df = pd.read_csv(\"Shakespeare_data.csv\")"
   ]
  },
  {
   "cell_type": "markdown",
   "metadata": {},
   "source": [
    "# Exploratory Data Analysis"
   ]
  },
  {
   "cell_type": "code",
   "execution_count": 3,
   "metadata": {
    "collapsed": false
   },
   "outputs": [
    {
     "data": {
      "text/html": [
       "<div>\n",
       "<table border=\"1\" class=\"dataframe\">\n",
       "  <thead>\n",
       "    <tr style=\"text-align: right;\">\n",
       "      <th></th>\n",
       "      <th>Dataline</th>\n",
       "      <th>Play</th>\n",
       "      <th>PlayerLinenumber</th>\n",
       "      <th>ActSceneLine</th>\n",
       "      <th>Player</th>\n",
       "      <th>PlayerLine</th>\n",
       "    </tr>\n",
       "  </thead>\n",
       "  <tbody>\n",
       "    <tr>\n",
       "      <th>0</th>\n",
       "      <td>1</td>\n",
       "      <td>Henry IV</td>\n",
       "      <td>NaN</td>\n",
       "      <td>NaN</td>\n",
       "      <td>NaN</td>\n",
       "      <td>ACT I</td>\n",
       "    </tr>\n",
       "    <tr>\n",
       "      <th>1</th>\n",
       "      <td>2</td>\n",
       "      <td>Henry IV</td>\n",
       "      <td>NaN</td>\n",
       "      <td>NaN</td>\n",
       "      <td>NaN</td>\n",
       "      <td>SCENE I. London. The palace.</td>\n",
       "    </tr>\n",
       "    <tr>\n",
       "      <th>2</th>\n",
       "      <td>3</td>\n",
       "      <td>Henry IV</td>\n",
       "      <td>NaN</td>\n",
       "      <td>NaN</td>\n",
       "      <td>NaN</td>\n",
       "      <td>Enter KING HENRY, LORD JOHN OF LANCASTER, the ...</td>\n",
       "    </tr>\n",
       "    <tr>\n",
       "      <th>3</th>\n",
       "      <td>4</td>\n",
       "      <td>Henry IV</td>\n",
       "      <td>1.0</td>\n",
       "      <td>1.1.1</td>\n",
       "      <td>KING HENRY IV</td>\n",
       "      <td>So shaken as we are, so wan with care,</td>\n",
       "    </tr>\n",
       "    <tr>\n",
       "      <th>4</th>\n",
       "      <td>5</td>\n",
       "      <td>Henry IV</td>\n",
       "      <td>1.0</td>\n",
       "      <td>1.1.2</td>\n",
       "      <td>KING HENRY IV</td>\n",
       "      <td>Find we a time for frighted peace to pant,</td>\n",
       "    </tr>\n",
       "  </tbody>\n",
       "</table>\n",
       "</div>"
      ],
      "text/plain": [
       "   Dataline      Play  PlayerLinenumber ActSceneLine         Player  \\\n",
       "0         1  Henry IV               NaN          NaN            NaN   \n",
       "1         2  Henry IV               NaN          NaN            NaN   \n",
       "2         3  Henry IV               NaN          NaN            NaN   \n",
       "3         4  Henry IV               1.0        1.1.1  KING HENRY IV   \n",
       "4         5  Henry IV               1.0        1.1.2  KING HENRY IV   \n",
       "\n",
       "                                          PlayerLine  \n",
       "0                                              ACT I  \n",
       "1                       SCENE I. London. The palace.  \n",
       "2  Enter KING HENRY, LORD JOHN OF LANCASTER, the ...  \n",
       "3             So shaken as we are, so wan with care,  \n",
       "4         Find we a time for frighted peace to pant,  "
      ]
     },
     "execution_count": 3,
     "metadata": {},
     "output_type": "execute_result"
    }
   ],
   "source": [
    "df.head()"
   ]
  },
  {
   "cell_type": "code",
   "execution_count": 4,
   "metadata": {
    "collapsed": false
   },
   "outputs": [
    {
     "name": "stdout",
     "output_type": "stream",
     "text": [
      "<class 'pandas.core.frame.DataFrame'>\n",
      "RangeIndex: 111396 entries, 0 to 111395\n",
      "Data columns (total 6 columns):\n",
      "Dataline            111396 non-null int64\n",
      "Play                111396 non-null object\n",
      "PlayerLinenumber    111393 non-null float64\n",
      "ActSceneLine        105153 non-null object\n",
      "Player              111389 non-null object\n",
      "PlayerLine          111396 non-null object\n",
      "dtypes: float64(1), int64(1), object(4)\n",
      "memory usage: 5.1+ MB\n"
     ]
    }
   ],
   "source": [
    "df.info()"
   ]
  },
  {
   "cell_type": "code",
   "execution_count": 5,
   "metadata": {
    "collapsed": false
   },
   "outputs": [
    {
     "data": {
      "text/plain": [
       "Dataline               0\n",
       "Play                   0\n",
       "PlayerLinenumber       3\n",
       "ActSceneLine        6243\n",
       "Player                 7\n",
       "PlayerLine             0\n",
       "dtype: int64"
      ]
     },
     "execution_count": 5,
     "metadata": {},
     "output_type": "execute_result"
    }
   ],
   "source": [
    "# Removing any null values from the dataset\n",
    "# As seen from the info ActSceneLine column has a few empty values\n",
    "df.isnull().sum()"
   ]
  },
  {
   "cell_type": "code",
   "execution_count": 6,
   "metadata": {
    "collapsed": true
   },
   "outputs": [],
   "source": [
    "#Removing rows containing null values in any of the columns \n",
    "df = df.dropna(how='any',axis=0) "
   ]
  },
  {
   "cell_type": "code",
   "execution_count": 7,
   "metadata": {
    "collapsed": false
   },
   "outputs": [
    {
     "data": {
      "text/plain": [
       "(105152, 6)"
      ]
     },
     "execution_count": 7,
     "metadata": {},
     "output_type": "execute_result"
    }
   ],
   "source": [
    "df.shape"
   ]
  },
  {
   "cell_type": "markdown",
   "metadata": {},
   "source": [
    "The dataframe contains 105,152 instances with 6 different attributes "
   ]
  },
  {
   "cell_type": "code",
   "execution_count": 8,
   "metadata": {
    "collapsed": true
   },
   "outputs": [],
   "source": [
    "#Getting the all the different players\n",
    "num_players = df.groupby('Player').size().sort_values(ascending=False)\n",
    "num_players = num_players[:50]"
   ]
  },
  {
   "cell_type": "code",
   "execution_count": 9,
   "metadata": {
    "collapsed": false
   },
   "outputs": [
    {
     "data": {
      "text/plain": [
       "Player\n",
       "GLOUCESTER      1811\n",
       "HAMLET          1503\n",
       "IAGO            1101\n",
       "FALSTAFF        1053\n",
       "KING HENRY V    1029\n",
       "dtype: int64"
      ]
     },
     "execution_count": 9,
     "metadata": {},
     "output_type": "execute_result"
    }
   ],
   "source": [
    "num_players.head(5)"
   ]
  },
  {
   "cell_type": "code",
   "execution_count": 10,
   "metadata": {
    "collapsed": false
   },
   "outputs": [
    {
     "data": {
      "text/plain": [
       "<matplotlib.axes._subplots.AxesSubplot at 0x1195a9910>"
      ]
     },
     "execution_count": 10,
     "metadata": {},
     "output_type": "execute_result"
    },
    {
     "data": {
      "image/png": "[encoded data removed]",
      "text/plain": [
       "<Figure size 576x720 with 1 Axes>"
      ]
     },
     "metadata": {},
     "output_type": "display_data"
    }
   ],
   "source": [
    "#Plotting distribution of player counts\n",
    "num_players.plot(kind='barh',label='Top 50 Players',figsize=(8,10))"
   ]
  },
  {
   "cell_type": "code",
   "execution_count": 11,
   "metadata": {
    "collapsed": false
   },
   "outputs": [
    {
     "data": {
      "text/plain": [
       "Play\n",
       "Hamlet                  4020\n",
       "Coriolanus              3768\n",
       "Cymbeline               3756\n",
       "Richard III             3705\n",
       "Antony and Cleopatra    3565\n",
       "dtype: int64"
      ]
     },
     "execution_count": 11,
     "metadata": {},
     "output_type": "execute_result"
    }
   ],
   "source": [
    "#Getting the all the different plays\n",
    "num_plays = df.groupby('Play').size().sort_values(ascending=False)\n",
    "num_plays.head()"
   ]
  },
  {
   "cell_type": "code",
   "execution_count": 12,
   "metadata": {
    "collapsed": false
   },
   "outputs": [
    {
     "data": {
      "text/plain": [
       "Text(0.5,1,'Plays distribution')"
      ]
     },
     "execution_count": 12,
     "metadata": {},
     "output_type": "execute_result"
    },
    {
     "data": {
      "image/png": "[encoded data removed]",
      "text/plain": [
       "<Figure size 432x288 with 1 Axes>"
      ]
     },
     "metadata": {},
     "output_type": "display_data"
    }
   ],
   "source": [
    "#Plotting plays distribution\n",
    "df['Play'].value_counts().plot.bar()\n",
    "\n",
    "plt.title(\"Plays distribution\", fontsize=20)"
   ]
  },
  {
   "cell_type": "markdown",
   "metadata": {},
   "source": [
    "The above plots shows us that the plays are fairly evenly distributed. This is good for our purpose, since the bias will not be too much when building our classifier"
   ]
  },
  {
   "cell_type": "code",
   "execution_count": 13,
   "metadata": {
    "collapsed": false
   },
   "outputs": [
    {
     "data": {
      "text/plain": [
       "Play                Player            \n",
       "A Comedy of Errors  ADRIANA               276\n",
       "                    AEGEON                147\n",
       "                    AEMELIA                73\n",
       "                    ANGELO                 96\n",
       "                    ANTIPHOLUS              6\n",
       "                    BALTHAZAR              31\n",
       "                    Courtezan              40\n",
       "                    DROMIO OF EPHESUS     187\n",
       "                    DROMIO OF SYRACUSE    314\n",
       "                    DUKE SOLINUS           93\n",
       "Name: PlayerLinenumber, dtype: int64"
      ]
     },
     "execution_count": 13,
     "metadata": {},
     "output_type": "execute_result"
    }
   ],
   "source": [
    "#Getting the list of all players per play \n",
    "Play_Line_Count = df.groupby(['Play','Player']).count()['PlayerLinenumber']\n",
    "Play_Line_Count.head(10)"
   ]
  },
  {
   "cell_type": "code",
   "execution_count": 14,
   "metadata": {
    "collapsed": false
   },
   "outputs": [
    {
     "name": "stdout",
     "output_type": "stream",
     "text": [
      "('total categories:', 934)\n"
     ]
    }
   ],
   "source": [
    "# Printing all different number of players in the plays\n",
    "player_count = df.groupby('Player')\n",
    "print(\"total categories:\", player_count.ngroups)"
   ]
  },
  {
   "cell_type": "markdown",
   "metadata": {},
   "source": [
    "There are a total of 934 players from all the Shakespeare's plays in our dataset. Using the initial information from our analysis, let's move on to obtain some additional features from the given features "
   ]
  },
  {
   "cell_type": "markdown",
   "metadata": {},
   "source": [
    "# Feature Engineering"
   ]
  },
  {
   "cell_type": "code",
   "execution_count": 15,
   "metadata": {
    "collapsed": false
   },
   "outputs": [
    {
     "data": {
      "text/html": [
       "<div>\n",
       "<table border=\"1\" class=\"dataframe\">\n",
       "  <thead>\n",
       "    <tr style=\"text-align: right;\">\n",
       "      <th></th>\n",
       "      <th>Dataline</th>\n",
       "      <th>Play</th>\n",
       "      <th>PlayerLinenumber</th>\n",
       "      <th>ActSceneLine</th>\n",
       "      <th>Player</th>\n",
       "      <th>PlayerLine</th>\n",
       "      <th>Player-Line</th>\n",
       "    </tr>\n",
       "  </thead>\n",
       "  <tbody>\n",
       "    <tr>\n",
       "      <th>3</th>\n",
       "      <td>4</td>\n",
       "      <td>Henry IV</td>\n",
       "      <td>1.0</td>\n",
       "      <td>1.1.1</td>\n",
       "      <td>KING HENRY IV</td>\n",
       "      <td>So shaken as we are, so wan with care,</td>\n",
       "      <td>So shaken as we are so wan with care</td>\n",
       "    </tr>\n",
       "    <tr>\n",
       "      <th>4</th>\n",
       "      <td>5</td>\n",
       "      <td>Henry IV</td>\n",
       "      <td>1.0</td>\n",
       "      <td>1.1.2</td>\n",
       "      <td>KING HENRY IV</td>\n",
       "      <td>Find we a time for frighted peace to pant,</td>\n",
       "      <td>Find we a time for frighted peace to pant</td>\n",
       "    </tr>\n",
       "    <tr>\n",
       "      <th>5</th>\n",
       "      <td>6</td>\n",
       "      <td>Henry IV</td>\n",
       "      <td>1.0</td>\n",
       "      <td>1.1.3</td>\n",
       "      <td>KING HENRY IV</td>\n",
       "      <td>And breathe short-winded accents of new broils</td>\n",
       "      <td>And breathe shortwinded accents of new broils</td>\n",
       "    </tr>\n",
       "    <tr>\n",
       "      <th>6</th>\n",
       "      <td>7</td>\n",
       "      <td>Henry IV</td>\n",
       "      <td>1.0</td>\n",
       "      <td>1.1.4</td>\n",
       "      <td>KING HENRY IV</td>\n",
       "      <td>To be commenced in strands afar remote.</td>\n",
       "      <td>To be commenced in strands afar remote</td>\n",
       "    </tr>\n",
       "    <tr>\n",
       "      <th>7</th>\n",
       "      <td>8</td>\n",
       "      <td>Henry IV</td>\n",
       "      <td>1.0</td>\n",
       "      <td>1.1.5</td>\n",
       "      <td>KING HENRY IV</td>\n",
       "      <td>No more the thirsty entrance of this soil</td>\n",
       "      <td>No more the thirsty entrance of this soil</td>\n",
       "    </tr>\n",
       "  </tbody>\n",
       "</table>\n",
       "</div>"
      ],
      "text/plain": [
       "   Dataline      Play  PlayerLinenumber ActSceneLine         Player  \\\n",
       "3         4  Henry IV               1.0        1.1.1  KING HENRY IV   \n",
       "4         5  Henry IV               1.0        1.1.2  KING HENRY IV   \n",
       "5         6  Henry IV               1.0        1.1.3  KING HENRY IV   \n",
       "6         7  Henry IV               1.0        1.1.4  KING HENRY IV   \n",
       "7         8  Henry IV               1.0        1.1.5  KING HENRY IV   \n",
       "\n",
       "                                       PlayerLine  \\\n",
       "3          So shaken as we are, so wan with care,   \n",
       "4      Find we a time for frighted peace to pant,   \n",
       "5  And breathe short-winded accents of new broils   \n",
       "6         To be commenced in strands afar remote.   \n",
       "7       No more the thirsty entrance of this soil   \n",
       "\n",
       "                                     Player-Line  \n",
       "3           So shaken as we are so wan with care  \n",
       "4      Find we a time for frighted peace to pant  \n",
       "5  And breathe shortwinded accents of new broils  \n",
       "6         To be commenced in strands afar remote  \n",
       "7      No more the thirsty entrance of this soil  "
      ]
     },
     "execution_count": 15,
     "metadata": {},
     "output_type": "execute_result"
    }
   ],
   "source": [
    "# Performing some NLP for the PlayerLine column, such as - removing punctuations, stopwords, tokenization \n",
    "\n",
    "string.punctuation\n",
    "\n",
    "#Removing punctuations from the lines\n",
    "def remove_punct(text):\n",
    "    text  = \"\".join([char for char in text if char not in string.punctuation])\n",
    "    text = re.sub('[0-9]+', '', text)\n",
    "    return text\n",
    "\n",
    "df['Player-Line'] = df['PlayerLine'].apply(lambda x: remove_punct(x))\n",
    "df.head()"
   ]
  },
  {
   "cell_type": "code",
   "execution_count": 16,
   "metadata": {
    "collapsed": false
   },
   "outputs": [
    {
     "data": {
      "text/html": [
       "<div>\n",
       "<table border=\"1\" class=\"dataframe\">\n",
       "  <thead>\n",
       "    <tr style=\"text-align: right;\">\n",
       "      <th></th>\n",
       "      <th>Dataline</th>\n",
       "      <th>Play</th>\n",
       "      <th>PlayerLinenumber</th>\n",
       "      <th>ActSceneLine</th>\n",
       "      <th>Player</th>\n",
       "      <th>PlayerLine</th>\n",
       "      <th>Player-Line</th>\n",
       "      <th>Player-Line-Tokens</th>\n",
       "    </tr>\n",
       "  </thead>\n",
       "  <tbody>\n",
       "    <tr>\n",
       "      <th>3</th>\n",
       "      <td>4</td>\n",
       "      <td>Henry IV</td>\n",
       "      <td>1.0</td>\n",
       "      <td>1.1.1</td>\n",
       "      <td>KING HENRY IV</td>\n",
       "      <td>So shaken as we are, so wan with care,</td>\n",
       "      <td>So shaken as we are so wan with care</td>\n",
       "      <td>[so, shaken, as, we, are, so, wan, with, care]</td>\n",
       "    </tr>\n",
       "    <tr>\n",
       "      <th>4</th>\n",
       "      <td>5</td>\n",
       "      <td>Henry IV</td>\n",
       "      <td>1.0</td>\n",
       "      <td>1.1.2</td>\n",
       "      <td>KING HENRY IV</td>\n",
       "      <td>Find we a time for frighted peace to pant,</td>\n",
       "      <td>Find we a time for frighted peace to pant</td>\n",
       "      <td>[find, we, a, time, for, frighted, peace, to, ...</td>\n",
       "    </tr>\n",
       "    <tr>\n",
       "      <th>5</th>\n",
       "      <td>6</td>\n",
       "      <td>Henry IV</td>\n",
       "      <td>1.0</td>\n",
       "      <td>1.1.3</td>\n",
       "      <td>KING HENRY IV</td>\n",
       "      <td>And breathe short-winded accents of new broils</td>\n",
       "      <td>And breathe shortwinded accents of new broils</td>\n",
       "      <td>[and, breathe, shortwinded, accents, of, new, ...</td>\n",
       "    </tr>\n",
       "    <tr>\n",
       "      <th>6</th>\n",
       "      <td>7</td>\n",
       "      <td>Henry IV</td>\n",
       "      <td>1.0</td>\n",
       "      <td>1.1.4</td>\n",
       "      <td>KING HENRY IV</td>\n",
       "      <td>To be commenced in strands afar remote.</td>\n",
       "      <td>To be commenced in strands afar remote</td>\n",
       "      <td>[to, be, commenced, in, strands, afar, remote]</td>\n",
       "    </tr>\n",
       "    <tr>\n",
       "      <th>7</th>\n",
       "      <td>8</td>\n",
       "      <td>Henry IV</td>\n",
       "      <td>1.0</td>\n",
       "      <td>1.1.5</td>\n",
       "      <td>KING HENRY IV</td>\n",
       "      <td>No more the thirsty entrance of this soil</td>\n",
       "      <td>No more the thirsty entrance of this soil</td>\n",
       "      <td>[no, more, the, thirsty, entrance, of, this, s...</td>\n",
       "    </tr>\n",
       "  </tbody>\n",
       "</table>\n",
       "</div>"
      ],
      "text/plain": [
       "   Dataline      Play  PlayerLinenumber ActSceneLine         Player  \\\n",
       "3         4  Henry IV               1.0        1.1.1  KING HENRY IV   \n",
       "4         5  Henry IV               1.0        1.1.2  KING HENRY IV   \n",
       "5         6  Henry IV               1.0        1.1.3  KING HENRY IV   \n",
       "6         7  Henry IV               1.0        1.1.4  KING HENRY IV   \n",
       "7         8  Henry IV               1.0        1.1.5  KING HENRY IV   \n",
       "\n",
       "                                       PlayerLine  \\\n",
       "3          So shaken as we are, so wan with care,   \n",
       "4      Find we a time for frighted peace to pant,   \n",
       "5  And breathe short-winded accents of new broils   \n",
       "6         To be commenced in strands afar remote.   \n",
       "7       No more the thirsty entrance of this soil   \n",
       "\n",
       "                                     Player-Line  \\\n",
       "3           So shaken as we are so wan with care   \n",
       "4      Find we a time for frighted peace to pant   \n",
       "5  And breathe shortwinded accents of new broils   \n",
       "6         To be commenced in strands afar remote   \n",
       "7      No more the thirsty entrance of this soil   \n",
       "\n",
       "                                  Player-Line-Tokens  \n",
       "3     [so, shaken, as, we, are, so, wan, with, care]  \n",
       "4  [find, we, a, time, for, frighted, peace, to, ...  \n",
       "5  [and, breathe, shortwinded, accents, of, new, ...  \n",
       "6     [to, be, commenced, in, strands, afar, remote]  \n",
       "7  [no, more, the, thirsty, entrance, of, this, s...  "
      ]
     },
     "execution_count": 16,
     "metadata": {},
     "output_type": "execute_result"
    }
   ],
   "source": [
    "#Tokenizing words\n",
    "def tokenization(text):\n",
    "    text = re.split('\\W+', text)\n",
    "    return text\n",
    "\n",
    "df['Player-Line-Tokens'] = df['Player-Line'].apply(lambda x: tokenization(x.lower()))\n",
    "df.head()"
   ]
  },
  {
   "cell_type": "code",
   "execution_count": 17,
   "metadata": {
    "collapsed": false
   },
   "outputs": [
    {
     "data": {
      "text/html": [
       "<div>\n",
       "<table border=\"1\" class=\"dataframe\">\n",
       "  <thead>\n",
       "    <tr style=\"text-align: right;\">\n",
       "      <th></th>\n",
       "      <th>Dataline</th>\n",
       "      <th>Play</th>\n",
       "      <th>PlayerLinenumber</th>\n",
       "      <th>ActSceneLine</th>\n",
       "      <th>Player</th>\n",
       "      <th>PlayerLine</th>\n",
       "      <th>Player-Line</th>\n",
       "      <th>Player-Line-Tokens</th>\n",
       "      <th>Player-Line-Nostop</th>\n",
       "    </tr>\n",
       "  </thead>\n",
       "  <tbody>\n",
       "    <tr>\n",
       "      <th>3</th>\n",
       "      <td>4</td>\n",
       "      <td>Henry IV</td>\n",
       "      <td>1.0</td>\n",
       "      <td>1.1.1</td>\n",
       "      <td>KING HENRY IV</td>\n",
       "      <td>So shaken as we are, so wan with care,</td>\n",
       "      <td>So shaken as we are so wan with care</td>\n",
       "      <td>[so, shaken, as, we, are, so, wan, with, care]</td>\n",
       "      <td>[shaken, wan, care]</td>\n",
       "    </tr>\n",
       "    <tr>\n",
       "      <th>4</th>\n",
       "      <td>5</td>\n",
       "      <td>Henry IV</td>\n",
       "      <td>1.0</td>\n",
       "      <td>1.1.2</td>\n",
       "      <td>KING HENRY IV</td>\n",
       "      <td>Find we a time for frighted peace to pant,</td>\n",
       "      <td>Find we a time for frighted peace to pant</td>\n",
       "      <td>[find, we, a, time, for, frighted, peace, to, ...</td>\n",
       "      <td>[time, frighted, peace, pant]</td>\n",
       "    </tr>\n",
       "    <tr>\n",
       "      <th>5</th>\n",
       "      <td>6</td>\n",
       "      <td>Henry IV</td>\n",
       "      <td>1.0</td>\n",
       "      <td>1.1.3</td>\n",
       "      <td>KING HENRY IV</td>\n",
       "      <td>And breathe short-winded accents of new broils</td>\n",
       "      <td>And breathe shortwinded accents of new broils</td>\n",
       "      <td>[and, breathe, shortwinded, accents, of, new, ...</td>\n",
       "      <td>[breathe, shortwinded, accents, new, broils]</td>\n",
       "    </tr>\n",
       "    <tr>\n",
       "      <th>6</th>\n",
       "      <td>7</td>\n",
       "      <td>Henry IV</td>\n",
       "      <td>1.0</td>\n",
       "      <td>1.1.4</td>\n",
       "      <td>KING HENRY IV</td>\n",
       "      <td>To be commenced in strands afar remote.</td>\n",
       "      <td>To be commenced in strands afar remote</td>\n",
       "      <td>[to, be, commenced, in, strands, afar, remote]</td>\n",
       "      <td>[commenced, strands, afar, remote]</td>\n",
       "    </tr>\n",
       "    <tr>\n",
       "      <th>7</th>\n",
       "      <td>8</td>\n",
       "      <td>Henry IV</td>\n",
       "      <td>1.0</td>\n",
       "      <td>1.1.5</td>\n",
       "      <td>KING HENRY IV</td>\n",
       "      <td>No more the thirsty entrance of this soil</td>\n",
       "      <td>No more the thirsty entrance of this soil</td>\n",
       "      <td>[no, more, the, thirsty, entrance, of, this, s...</td>\n",
       "      <td>[thirsty, entrance, soil]</td>\n",
       "    </tr>\n",
       "  </tbody>\n",
       "</table>\n",
       "</div>"
      ],
      "text/plain": [
       "   Dataline      Play  PlayerLinenumber ActSceneLine         Player  \\\n",
       "3         4  Henry IV               1.0        1.1.1  KING HENRY IV   \n",
       "4         5  Henry IV               1.0        1.1.2  KING HENRY IV   \n",
       "5         6  Henry IV               1.0        1.1.3  KING HENRY IV   \n",
       "6         7  Henry IV               1.0        1.1.4  KING HENRY IV   \n",
       "7         8  Henry IV               1.0        1.1.5  KING HENRY IV   \n",
       "\n",
       "                                       PlayerLine  \\\n",
       "3          So shaken as we are, so wan with care,   \n",
       "4      Find we a time for frighted peace to pant,   \n",
       "5  And breathe short-winded accents of new broils   \n",
       "6         To be commenced in strands afar remote.   \n",
       "7       No more the thirsty entrance of this soil   \n",
       "\n",
       "                                     Player-Line  \\\n",
       "3           So shaken as we are so wan with care   \n",
       "4      Find we a time for frighted peace to pant   \n",
       "5  And breathe shortwinded accents of new broils   \n",
       "6         To be commenced in strands afar remote   \n",
       "7      No more the thirsty entrance of this soil   \n",
       "\n",
       "                                  Player-Line-Tokens  \\\n",
       "3     [so, shaken, as, we, are, so, wan, with, care]   \n",
       "4  [find, we, a, time, for, frighted, peace, to, ...   \n",
       "5  [and, breathe, shortwinded, accents, of, new, ...   \n",
       "6     [to, be, commenced, in, strands, afar, remote]   \n",
       "7  [no, more, the, thirsty, entrance, of, this, s...   \n",
       "\n",
       "                             Player-Line-Nostop  \n",
       "3                           [shaken, wan, care]  \n",
       "4                 [time, frighted, peace, pant]  \n",
       "5  [breathe, shortwinded, accents, new, broils]  \n",
       "6            [commenced, strands, afar, remote]  \n",
       "7                     [thirsty, entrance, soil]  "
      ]
     },
     "execution_count": 17,
     "metadata": {},
     "output_type": "execute_result"
    }
   ],
   "source": [
    "#Removing stop words\n",
    "\n",
    "stopwords = ([\"i\",\"a\", \"about\", \"above\", \"above\", \"across\", \"after\", \"afterwards\", \"again\", \"against\", \"all\", \"almost\", \"alone\", \"along\", \"already\", \"also\",\"although\",\"always\",\"am\",\"among\", \"amongst\", \"amoungst\", \"amount\",  \"an\", \"and\", \"another\", \"any\",\"anyhow\",\"anyone\",\"anything\",\"anyway\", \"anywhere\", \"are\", \"around\", \"as\",  \"at\", \"back\",\"be\",\"became\", \"because\",\"become\",\"becomes\", \"becoming\", \"been\", \"before\", \"beforehand\", \"behind\", \"being\", \"below\", \"beside\", \"besides\", \"between\", \"beyond\", \"bill\", \"both\", \"bottom\",\"but\", \"by\", \"call\", \"can\", \"cannot\", \"cant\", \"co\", \"con\", \"could\", \"couldnt\", \"cry\", \"de\", \"describe\", \"detail\", \"do\", \"done\", \"down\", \"due\", \"during\", \"each\", \"eg\", \"eight\", \"either\", \"eleven\",\"else\", \"elsewhere\", \"empty\", \"enough\", \"etc\", \"even\", \"ever\", \"every\", \"everyone\", \"everything\", \"everywhere\", \"except\", \"few\", \"fifteen\", \"fify\", \"fill\", \"find\", \"fire\", \"first\", \"five\", \"for\", \"former\", \"formerly\", \"forty\", \"found\", \"four\", \"from\", \"front\", \"full\", \"further\", \"get\", \"give\", \"go\", \"had\", \"has\", \"hasnt\", \"have\", \"he\", \"hence\", \"her\", \"here\", \"hereafter\", \"hereby\", \"herein\", \"hereupon\", \"hers\", \"herself\", \"him\", \"himself\", \"his\", \"how\", \"however\", \"hundred\", \"ie\", \"if\", \"in\", \"inc\", \"indeed\", \"interest\", \"into\", \"is\", \"it\", \"its\", \"itself\", \"keep\", \"last\", \"latter\", \"latterly\", \"least\", \"less\", \"ltd\", \"made\", \"many\", \"may\", \"me\", \"meanwhile\", \"might\", \"mill\", \"mine\", \"more\", \"moreover\", \"most\", \"mostly\", \"move\", \"much\", \"must\", \"my\", \"myself\", \"name\", \"namely\", \"neither\", \"never\", \"nevertheless\", \"next\", \"nine\", \"no\", \"nobody\", \"none\", \"noone\", \"nor\", \"not\", \"nothing\", \"now\", \"nowhere\", \"of\", \"off\", \"often\", \"on\", \"once\", \"one\", \"only\", \"onto\", \"or\", \"other\", \"others\", \"otherwise\", \"our\", \"ours\", \"ourselves\", \"out\", \"over\", \"own\",\"part\", \"per\", \"perhaps\", \"please\", \"put\", \"rather\", \"re\", \"same\", \"see\", \"seem\", \"seemed\", \"seeming\", \"seems\", \"serious\", \"several\", \"she\", \"should\", \"show\", \"side\", \"since\", \"sincere\", \"six\", \"sixty\", \"so\", \"some\", \"somehow\", \"someone\", \"something\", \"sometime\", \"sometimes\", \"somewhere\", \"still\", \"such\", \"system\", \"take\", \"ten\", \"than\", \"that\", \"the\", \"their\", \"them\", \"themselves\", \"then\", \"thence\", \"there\", \"thereafter\", \"thereby\", \"therefore\", \"therein\", \"thereupon\", \"these\", \"they\", \"thickv\", \"thin\", \"third\", \"this\", \"those\", \"though\", \"three\", \"through\", \"throughout\", \"thru\", \"thus\", \"to\", \"together\", \"too\", \"top\", \"toward\", \"towards\", \"twelve\", \"twenty\", \"two\", \"un\", \"under\", \"until\", \"up\", \"upon\", \"us\", \"very\", \"via\", \"was\", \"we\", \"well\", \"were\", \"what\", \"whatever\", \"when\", \"whence\", \"whenever\", \"where\", \"whereafter\", \"whereas\", \"whereby\", \"wherein\", \"whereupon\", \"wherever\", \"whether\", \"which\", \"while\", \"whither\", \"who\", \"whoever\", \"whole\", \"whom\", \"whose\", \"why\", \"will\", \"with\", \"within\", \"without\", \"would\", \"yet\", \"you\", \"your\", \"yours\", \"yourself\", \"yourselves\", \"the\"])\n",
    "\n",
    "def remove_stopwords(text):\n",
    "    text = [word for word in text if word not in stopwords]\n",
    "    return text\n",
    "    \n",
    "df['Player-Line-Nostop'] = df['Player-Line-Tokens'].apply(lambda x: remove_stopwords(x))\n",
    "df.head()"
   ]
  },
  {
   "cell_type": "markdown",
   "metadata": {},
   "source": [
    "After performing punctuation removal,tokenization, stemming and removal of stop words from the Player Line field, we now have a column with the list of keywords from each Player's line"
   ]
  },
  {
   "cell_type": "code",
   "execution_count": 18,
   "metadata": {
    "collapsed": true
   },
   "outputs": [],
   "source": [
    "#Remove redundant columns from final dataframe\n",
    "\n",
    "#Remove Dataline column as it does not add any important information \n",
    "\n",
    "del df['Dataline']\n",
    "\n",
    "#Remove PlayerLine, Player-Line and Player-Line-Tokens as the Player-Line-Nostop colum contains all the necessary information\n",
    "del df['PlayerLine']\n",
    "del df['Player-Line']\n",
    "del df['Player-Line-Tokens']"
   ]
  },
  {
   "cell_type": "code",
   "execution_count": 19,
   "metadata": {
    "collapsed": false
   },
   "outputs": [
    {
     "data": {
      "text/html": [
       "<div>\n",
       "<table border=\"1\" class=\"dataframe\">\n",
       "  <thead>\n",
       "    <tr style=\"text-align: right;\">\n",
       "      <th></th>\n",
       "      <th>Play</th>\n",
       "      <th>PlayerLinenumber</th>\n",
       "      <th>ActSceneLine</th>\n",
       "      <th>Player</th>\n",
       "      <th>Player-Line-Nostop</th>\n",
       "    </tr>\n",
       "  </thead>\n",
       "  <tbody>\n",
       "    <tr>\n",
       "      <th>3</th>\n",
       "      <td>Henry IV</td>\n",
       "      <td>1.0</td>\n",
       "      <td>1.1.1</td>\n",
       "      <td>KING HENRY IV</td>\n",
       "      <td>[shaken, wan, care]</td>\n",
       "    </tr>\n",
       "    <tr>\n",
       "      <th>4</th>\n",
       "      <td>Henry IV</td>\n",
       "      <td>1.0</td>\n",
       "      <td>1.1.2</td>\n",
       "      <td>KING HENRY IV</td>\n",
       "      <td>[time, frighted, peace, pant]</td>\n",
       "    </tr>\n",
       "    <tr>\n",
       "      <th>5</th>\n",
       "      <td>Henry IV</td>\n",
       "      <td>1.0</td>\n",
       "      <td>1.1.3</td>\n",
       "      <td>KING HENRY IV</td>\n",
       "      <td>[breathe, shortwinded, accents, new, broils]</td>\n",
       "    </tr>\n",
       "    <tr>\n",
       "      <th>6</th>\n",
       "      <td>Henry IV</td>\n",
       "      <td>1.0</td>\n",
       "      <td>1.1.4</td>\n",
       "      <td>KING HENRY IV</td>\n",
       "      <td>[commenced, strands, afar, remote]</td>\n",
       "    </tr>\n",
       "    <tr>\n",
       "      <th>7</th>\n",
       "      <td>Henry IV</td>\n",
       "      <td>1.0</td>\n",
       "      <td>1.1.5</td>\n",
       "      <td>KING HENRY IV</td>\n",
       "      <td>[thirsty, entrance, soil]</td>\n",
       "    </tr>\n",
       "  </tbody>\n",
       "</table>\n",
       "</div>"
      ],
      "text/plain": [
       "       Play  PlayerLinenumber ActSceneLine         Player  \\\n",
       "3  Henry IV               1.0        1.1.1  KING HENRY IV   \n",
       "4  Henry IV               1.0        1.1.2  KING HENRY IV   \n",
       "5  Henry IV               1.0        1.1.3  KING HENRY IV   \n",
       "6  Henry IV               1.0        1.1.4  KING HENRY IV   \n",
       "7  Henry IV               1.0        1.1.5  KING HENRY IV   \n",
       "\n",
       "                             Player-Line-Nostop  \n",
       "3                           [shaken, wan, care]  \n",
       "4                 [time, frighted, peace, pant]  \n",
       "5  [breathe, shortwinded, accents, new, broils]  \n",
       "6            [commenced, strands, afar, remote]  \n",
       "7                     [thirsty, entrance, soil]  "
      ]
     },
     "execution_count": 19,
     "metadata": {},
     "output_type": "execute_result"
    }
   ],
   "source": [
    "df.head()"
   ]
  },
  {
   "cell_type": "code",
   "execution_count": 20,
   "metadata": {
    "collapsed": true
   },
   "outputs": [],
   "source": [
    "#Function to combine a list of strings into a sentence\n",
    "def join_strings_to_sentence(x):\n",
    "    result = ' '.join(x)\n",
    "    return result"
   ]
  },
  {
   "cell_type": "code",
   "execution_count": 21,
   "metadata": {
    "collapsed": true
   },
   "outputs": [],
   "source": [
    "#Separating the words in each document to form sentences for vectorization\n",
    "df[\"PlayerLine\"] = df[\"Player-Line-Nostop\"].apply(join_strings_to_sentence)"
   ]
  },
  {
   "cell_type": "code",
   "execution_count": 22,
   "metadata": {
    "collapsed": false
   },
   "outputs": [
    {
     "data": {
      "text/html": [
       "<div>\n",
       "<table border=\"1\" class=\"dataframe\">\n",
       "  <thead>\n",
       "    <tr style=\"text-align: right;\">\n",
       "      <th></th>\n",
       "      <th>Play</th>\n",
       "      <th>PlayerLinenumber</th>\n",
       "      <th>ActSceneLine</th>\n",
       "      <th>Player</th>\n",
       "      <th>Player-Line-Nostop</th>\n",
       "      <th>PlayerLine</th>\n",
       "    </tr>\n",
       "  </thead>\n",
       "  <tbody>\n",
       "    <tr>\n",
       "      <th>3</th>\n",
       "      <td>Henry IV</td>\n",
       "      <td>1.0</td>\n",
       "      <td>1.1.1</td>\n",
       "      <td>KING HENRY IV</td>\n",
       "      <td>[shaken, wan, care]</td>\n",
       "      <td>shaken wan care</td>\n",
       "    </tr>\n",
       "    <tr>\n",
       "      <th>4</th>\n",
       "      <td>Henry IV</td>\n",
       "      <td>1.0</td>\n",
       "      <td>1.1.2</td>\n",
       "      <td>KING HENRY IV</td>\n",
       "      <td>[time, frighted, peace, pant]</td>\n",
       "      <td>time frighted peace pant</td>\n",
       "    </tr>\n",
       "    <tr>\n",
       "      <th>5</th>\n",
       "      <td>Henry IV</td>\n",
       "      <td>1.0</td>\n",
       "      <td>1.1.3</td>\n",
       "      <td>KING HENRY IV</td>\n",
       "      <td>[breathe, shortwinded, accents, new, broils]</td>\n",
       "      <td>breathe shortwinded accents new broils</td>\n",
       "    </tr>\n",
       "    <tr>\n",
       "      <th>6</th>\n",
       "      <td>Henry IV</td>\n",
       "      <td>1.0</td>\n",
       "      <td>1.1.4</td>\n",
       "      <td>KING HENRY IV</td>\n",
       "      <td>[commenced, strands, afar, remote]</td>\n",
       "      <td>commenced strands afar remote</td>\n",
       "    </tr>\n",
       "    <tr>\n",
       "      <th>7</th>\n",
       "      <td>Henry IV</td>\n",
       "      <td>1.0</td>\n",
       "      <td>1.1.5</td>\n",
       "      <td>KING HENRY IV</td>\n",
       "      <td>[thirsty, entrance, soil]</td>\n",
       "      <td>thirsty entrance soil</td>\n",
       "    </tr>\n",
       "  </tbody>\n",
       "</table>\n",
       "</div>"
      ],
      "text/plain": [
       "       Play  PlayerLinenumber ActSceneLine         Player  \\\n",
       "3  Henry IV               1.0        1.1.1  KING HENRY IV   \n",
       "4  Henry IV               1.0        1.1.2  KING HENRY IV   \n",
       "5  Henry IV               1.0        1.1.3  KING HENRY IV   \n",
       "6  Henry IV               1.0        1.1.4  KING HENRY IV   \n",
       "7  Henry IV               1.0        1.1.5  KING HENRY IV   \n",
       "\n",
       "                             Player-Line-Nostop  \\\n",
       "3                           [shaken, wan, care]   \n",
       "4                 [time, frighted, peace, pant]   \n",
       "5  [breathe, shortwinded, accents, new, broils]   \n",
       "6            [commenced, strands, afar, remote]   \n",
       "7                     [thirsty, entrance, soil]   \n",
       "\n",
       "                               PlayerLine  \n",
       "3                         shaken wan care  \n",
       "4                time frighted peace pant  \n",
       "5  breathe shortwinded accents new broils  \n",
       "6           commenced strands afar remote  \n",
       "7                   thirsty entrance soil  "
      ]
     },
     "execution_count": 22,
     "metadata": {},
     "output_type": "execute_result"
    }
   ],
   "source": [
    "df.head()"
   ]
  },
  {
   "cell_type": "markdown",
   "metadata": {},
   "source": [
    "# Label Encoding"
   ]
  },
  {
   "cell_type": "markdown",
   "metadata": {},
   "source": [
    "Since most of our attributes are object/string types, we will have to convert them to numeric values, in order to build our classification model. Label Encoding is a feature provided by scikit learn, which takes cateforical values and converts them into numeric values "
   ]
  },
  {
   "cell_type": "code",
   "execution_count": 23,
   "metadata": {
    "collapsed": false
   },
   "outputs": [
    {
     "data": {
      "text/plain": [
       "LabelEncoder()"
      ]
     },
     "execution_count": 23,
     "metadata": {},
     "output_type": "execute_result"
    }
   ],
   "source": [
    "#Applying Label Encoding to convert all the datatypes in the dataframe into numeric values\n",
    "\n",
    "label_encoder = preprocessing.LabelEncoder()\n",
    "\n",
    "df['Player'] = df['Player'].astype(str)\n",
    "df['Play'] = df['Play'].astype(str)\n",
    "df['PlayerLine'] = df['PlayerLine'].astype(str)\n",
    "df['ActSceneLine'] = df['ActSceneLine'].astype(str)\n",
    "\n",
    "\n",
    "label_encoder.fit(df['Player'])\n",
    "label_encoder.fit(df['Play'])\n",
    "label_encoder.fit(df['PlayerLine'])\n",
    "label_encoder.fit(df['ActSceneLine'])"
   ]
  },
  {
   "cell_type": "code",
   "execution_count": 24,
   "metadata": {
    "collapsed": true
   },
   "outputs": [],
   "source": [
    "#Adding new columns to the dataframe with the encoded values \n",
    "df['PlayLE'] = label_encoder.fit_transform(df['Play']) \n",
    "df['PlayerLE'] = label_encoder.fit_transform(df['Player']) \n",
    "df['LineLE'] = label_encoder.fit_transform(df['PlayerLine']) \n",
    "df['ActSceneLineLE'] = label_encoder.fit_transform(df['ActSceneLine'])"
   ]
  },
  {
   "cell_type": "code",
   "execution_count": 25,
   "metadata": {
    "collapsed": false
   },
   "outputs": [
    {
     "data": {
      "text/html": [
       "<div>\n",
       "<table border=\"1\" class=\"dataframe\">\n",
       "  <thead>\n",
       "    <tr style=\"text-align: right;\">\n",
       "      <th></th>\n",
       "      <th>Play</th>\n",
       "      <th>PlayerLinenumber</th>\n",
       "      <th>ActSceneLine</th>\n",
       "      <th>Player</th>\n",
       "      <th>Player-Line-Nostop</th>\n",
       "      <th>PlayerLine</th>\n",
       "      <th>PlayLE</th>\n",
       "      <th>PlayerLE</th>\n",
       "      <th>LineLE</th>\n",
       "      <th>ActSceneLineLE</th>\n",
       "    </tr>\n",
       "  </thead>\n",
       "  <tbody>\n",
       "    <tr>\n",
       "      <th>3</th>\n",
       "      <td>Henry IV</td>\n",
       "      <td>1.0</td>\n",
       "      <td>1.1.1</td>\n",
       "      <td>KING HENRY IV</td>\n",
       "      <td>[shaken, wan, care]</td>\n",
       "      <td>shaken wan care</td>\n",
       "      <td>9</td>\n",
       "      <td>457</td>\n",
       "      <td>72018</td>\n",
       "      <td>324</td>\n",
       "    </tr>\n",
       "    <tr>\n",
       "      <th>4</th>\n",
       "      <td>Henry IV</td>\n",
       "      <td>1.0</td>\n",
       "      <td>1.1.2</td>\n",
       "      <td>KING HENRY IV</td>\n",
       "      <td>[time, frighted, peace, pant]</td>\n",
       "      <td>time frighted peace pant</td>\n",
       "      <td>9</td>\n",
       "      <td>457</td>\n",
       "      <td>87330</td>\n",
       "      <td>435</td>\n",
       "    </tr>\n",
       "    <tr>\n",
       "      <th>5</th>\n",
       "      <td>Henry IV</td>\n",
       "      <td>1.0</td>\n",
       "      <td>1.1.3</td>\n",
       "      <td>KING HENRY IV</td>\n",
       "      <td>[breathe, shortwinded, accents, new, broils]</td>\n",
       "      <td>breathe shortwinded accents new broils</td>\n",
       "      <td>9</td>\n",
       "      <td>457</td>\n",
       "      <td>8250</td>\n",
       "      <td>546</td>\n",
       "    </tr>\n",
       "  </tbody>\n",
       "</table>\n",
       "</div>"
      ],
      "text/plain": [
       "       Play  PlayerLinenumber ActSceneLine         Player  \\\n",
       "3  Henry IV               1.0        1.1.1  KING HENRY IV   \n",
       "4  Henry IV               1.0        1.1.2  KING HENRY IV   \n",
       "5  Henry IV               1.0        1.1.3  KING HENRY IV   \n",
       "\n",
       "                             Player-Line-Nostop  \\\n",
       "3                           [shaken, wan, care]   \n",
       "4                 [time, frighted, peace, pant]   \n",
       "5  [breathe, shortwinded, accents, new, broils]   \n",
       "\n",
       "                               PlayerLine  PlayLE  PlayerLE  LineLE  \\\n",
       "3                         shaken wan care       9       457   72018   \n",
       "4                time frighted peace pant       9       457   87330   \n",
       "5  breathe shortwinded accents new broils       9       457    8250   \n",
       "\n",
       "   ActSceneLineLE  \n",
       "3             324  \n",
       "4             435  \n",
       "5             546  "
      ]
     },
     "execution_count": 25,
     "metadata": {},
     "output_type": "execute_result"
    }
   ],
   "source": [
    "df.head(3)"
   ]
  },
  {
   "cell_type": "code",
   "execution_count": 26,
   "metadata": {
    "collapsed": false
   },
   "outputs": [],
   "source": [
    "# Drop unnecessary columns\n",
    "df = df.drop(['Player-Line-Nostop','Play','ActSceneLine','PlayerLine'],axis=1)"
   ]
  },
  {
   "cell_type": "code",
   "execution_count": 27,
   "metadata": {
    "collapsed": false
   },
   "outputs": [],
   "source": [
    "#Getting only the features/labels we need to build our model \n",
    "\n",
    "X = df[['PlayLE','LineLE','ActSceneLineLE','PlayerLinenumber']]\n",
    "Y = df[['PlayerLE']]"
   ]
  },
  {
   "cell_type": "code",
   "execution_count": 28,
   "metadata": {
    "collapsed": true
   },
   "outputs": [],
   "source": [
    "#Converting the features and labels into array type\n",
    "X = np.array(X)\n",
    "Y = np.array(Y)"
   ]
  },
  {
   "cell_type": "code",
   "execution_count": 29,
   "metadata": {
    "collapsed": true
   },
   "outputs": [],
   "source": [
    "# Splitting the data into training and test sets\n",
    "X_train, X_test, y_train, y_test = train_test_split( X, Y, test_size = 0.2, random_state = 42)"
   ]
  },
  {
   "cell_type": "markdown",
   "metadata": {},
   "source": [
    "# Random Forest Classifier "
   ]
  },
  {
   "cell_type": "code",
   "execution_count": 30,
   "metadata": {
    "collapsed": false
   },
   "outputs": [
    {
     "name": "stderr",
     "output_type": "stream",
     "text": [
      "/Users/sirishat/anaconda/lib/python2.7/site-packages/ipykernel/__main__.py:3: DataConversionWarning: A column-vector y was passed when a 1d array was expected. Please change the shape of y to (n_samples,), for example using ravel().\n",
      "  app.launch_new_instance()\n"
     ]
    }
   ],
   "source": [
    "classifier1 = RandomForestClassifier()\n",
    "\n",
    "classifer1 = classifier1.fit(X_train, y_train)"
   ]
  },
  {
   "cell_type": "code",
   "execution_count": 31,
   "metadata": {
    "collapsed": false
   },
   "outputs": [
    {
     "data": {
      "text/plain": [
       "array([654, 625, 610, ..., 398, 175, 666])"
      ]
     },
     "execution_count": 31,
     "metadata": {},
     "output_type": "execute_result"
    }
   ],
   "source": [
    "y_pred = classifier1.predict(X_test)\n",
    "\n",
    "y_pred"
   ]
  },
  {
   "cell_type": "code",
   "execution_count": 32,
   "metadata": {
    "collapsed": false
   },
   "outputs": [
    {
     "data": {
      "text/plain": [
       "array([[654],\n",
       "       [178],\n",
       "       [904],\n",
       "       ..., \n",
       "       [398],\n",
       "       [175],\n",
       "       [666]])"
      ]
     },
     "execution_count": 32,
     "metadata": {},
     "output_type": "execute_result"
    }
   ],
   "source": [
    "y_test"
   ]
  },
  {
   "cell_type": "code",
   "execution_count": 34,
   "metadata": {
    "collapsed": false
   },
   "outputs": [
    {
     "name": "stdout",
     "output_type": "stream",
     "text": [
      "Accuracy of Random Forest Classifier in predicting Player: 0.75\n"
     ]
    }
   ],
   "source": [
    "print(\"Accuracy of Random Forest Classifier in predicting Player: %.2f\" % accuracy_score(y_test, y_pred))"
   ]
  },
  {
   "cell_type": "markdown",
   "metadata": {},
   "source": [
    "As we can see from the Accuracy score above, the prediction is 75%, which is a pretty good accuracy for a classification model!"
   ]
  }
 ],
 "metadata": {
  "anaconda-cloud": {},
  "kernelspec": {
   "display_name": "Python [default]",
   "language": "python",
   "name": "python2"
  },
  "language_info": {
   "codemirror_mode": {
    "name": "ipython",
    "version": 2
   },
   "file_extension": ".py",
   "mimetype": "text/x-python",
   "name": "python",
   "nbconvert_exporter": "python",
   "pygments_lexer": "ipython2",
   "version": "2.7.12"
  }
 },
 "nbformat": 4,
 "nbformat_minor": 1
}
